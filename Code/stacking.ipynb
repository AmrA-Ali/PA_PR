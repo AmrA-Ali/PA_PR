{
 "cells": [
  {
   "cell_type": "code",
   "execution_count": null,
   "metadata": {},
   "outputs": [],
   "source": [
    "import numpy as np\n",
    "np.random.seed(1001)\n",
    "\n",
    "import os\n",
    "import shutil\n",
    "\n",
    "import IPython\n",
    "import matplotlib\n",
    "import matplotlib.pyplot as plt\n",
    "import pandas as pd\n",
    "import seaborn as sns\n",
    "from tqdm import tqdm_notebook\n",
    "from sklearn.cross_validation import StratifiedKFold\n",
    "\n",
    "%matplotlib inline\n",
    "matplotlib.style.use('ggplot')"
   ]
  },
  {
   "cell_type": "code",
   "execution_count": null,
   "metadata": {},
   "outputs": [],
   "source": [
    "train = pd.read_csv(\"../freesound_lgbm/input/train.csv\")\n",
    "test = pd.read_csv(\"../freesound_lgbm/input/sample_submission.csv\")"
   ]
  },
  {
   "cell_type": "code",
   "execution_count": null,
   "metadata": {},
   "outputs": [],
   "source": [
    "LABELS = list(train.label.unique())\n",
    "label_idx = {label: i for i, label in enumerate(LABELS)}\n",
    "train.set_index(\"fname\", inplace=True)\n",
    "test.set_index(\"fname\", inplace=True)\n",
    "train[\"label_idx\"] = train.label.apply(lambda x: label_idx[x])"
   ]
  },
  {
   "cell_type": "code",
   "execution_count": null,
   "metadata": {},
   "outputs": [],
   "source": [
    "pred_list = []\n",
    "for i in range(10):\n",
    "    pred_list.append(np.load(\"predictions_2d_conv/test_predictions_%d.npy\"%i))\n",
    "for i in range(10):\n",
    "    pred_list.append(np.load(\"predictions_1d_conv//test_predictions_%d.npy\"%i))\n",
    "#for i in range(10):\n",
    " #   pred_list.append(np.load(\"input/freesound-prediction-data-2d-conv/test_predictions_%d.npy\"%i))\n",
    "prediction = np.ones_like(pred_list[0])\n",
    "for pred in pred_list:\n",
    "    prediction = prediction*pred\n",
    "prediction = prediction**(1./len(pred_list))\n",
    "# Make a submission file\n",
    "top_3 = np.array(LABELS)[np.argsort(-prediction, axis=1)[:, :3]]\n",
    "predicted_labels = [' '.join(list(x)) for x in top_3]\n",
    "test = pd.read_csv('../freesound_lgbm/input/sample_submission.csv')\n",
    "test['label'] = predicted_labels\n",
    "test[['fname', 'label']].to_csv(\"newtryout.csv\", index=False)"
   ]
  },
  {
   "cell_type": "code",
   "execution_count": null,
   "metadata": {},
   "outputs": [],
   "source": [
    "pred_list = []\n",
    "for i in range(10):\n",
    "    ld = np.load(\"input/freesound-prediction-data-2d-conv-reduced-lr/test_predictions_%d.npy\"%i)\n",
    "    pred_list.append(ld**0.7)\n",
    "for i in range(10):\n",
    "    pred_list.append(np.load(\"input/freesound-prediction-file/test_predictions_%d.npy\"%i))\n",
    "\n",
    "lg = np.load(\"../freesound_lgbm/lgbm_7863.npy\")    \n",
    "pred_list.append(lg**1.2)\n",
    "#for i in range(10):\n",
    "    #pred_list.append(np.load(\"predictions_2d_conv_lr0.0001_avgpool/test_predictions_%d.npy\"%i)**0.7)\n",
    "#for i in range(10):\n",
    "    #pred_list.append(np.load(\"input/freesound-prediction-data-2d-conv/test_predictions_%d.npy\"%i))\n",
    "prediction = np.ones_like(pred_list[0])\n",
    "for pred in pred_list:\n",
    "    prediction = prediction*pred\n",
    "prediction = prediction**(1./len(pred_list))\n",
    "# Make a submission file\n",
    "top_3 = np.array(LABELS)[np.argsort(-prediction, axis=1)[:, :3]]\n",
    "predicted_labels = [' '.join(list(x)) for x in top_3]\n",
    "test = pd.read_csv('../freesound_lgbm/input/sample_submission.csv')\n",
    "test['label'] = predicted_labels\n",
    "test[['fname', 'label']].to_csv(\"newtryout.csv\", index=False)"
   ]
  },
  {
   "cell_type": "code",
   "execution_count": null,
   "metadata": {},
   "outputs": [],
   "source": [
    "tryout = pd.read_csv(\"newtryout.csv\")\n",
    "c1d2d = pd.read_csv(\"91percent_2dweight_0.70.csv\")\n",
    "#c1d2d = pd.read_csv(\"1d_2d_ensembled_submission.csv\")"
   ]
  },
  {
   "cell_type": "code",
   "execution_count": null,
   "metadata": {},
   "outputs": [],
   "source": [
    "#print c\n",
    "c=0\n",
    "for i in range(9400):\n",
    "    e = tryout['label'][i].split(' ')\n",
    "    w = c1d2d['label'][i].split(' ')\n",
    "    if(e[0] != w[0]):\n",
    "        c+=1\n",
    "        print e, w, tryout['fname'][i]\n",
    "print c"
   ]
  }
 ],
 "metadata": {
  "kernelspec": {
   "display_name": "Python 2",
   "language": "python",
   "name": "python2"
  },
  "language_info": {
   "codemirror_mode": {
    "name": "ipython",
    "version": 2
   },
   "file_extension": ".py",
   "mimetype": "text/x-python",
   "name": "python",
   "nbconvert_exporter": "python",
   "pygments_lexer": "ipython2",
   "version": "2.7.12"
  }
 },
 "nbformat": 4,
 "nbformat_minor": 2
}
