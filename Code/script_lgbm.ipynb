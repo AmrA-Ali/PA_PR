{
 "cells": [
  {
   "cell_type": "code",
   "execution_count": 46,
   "metadata": {},
   "outputs": [
    {
     "data": {
      "application/vnd.jupyter.widget-view+json": {
       "model_id": "52d79338c4c14137a4bc06f4f7cb3992",
       "version_major": 2,
       "version_minor": 0
      },
      "text/html": [
       "<p>Failed to display Jupyter Widget of type <code>HBox</code>.</p>\n",
       "<p>\n",
       "  If you're reading this message in the Jupyter Notebook or JupyterLab Notebook, it may mean\n",
       "  that the widgets JavaScript is still loading. If this message persists, it\n",
       "  likely means that the widgets JavaScript library is either not installed or\n",
       "  not enabled. See the <a href=\"https://ipywidgets.readthedocs.io/en/stable/user_install.html\">Jupyter\n",
       "  Widgets Documentation</a> for setup instructions.\n",
       "</p>\n",
       "<p>\n",
       "  If you're reading this message in another frontend (for example, a static\n",
       "  rendering on GitHub or <a href=\"https://nbviewer.jupyter.org/\">NBViewer</a>),\n",
       "  it may mean that your frontend doesn't currently support widgets.\n",
       "</p>\n"
      ],
      "text/plain": [
       "HBox(children=(IntProgress(value=1, bar_style=u'info', max=1), HTML(value=u'')))"
      ]
     },
     "metadata": {},
     "output_type": "display_data"
    },
    {
     "name": "stdout",
     "output_type": "stream",
     "text": [
      "\n"
     ]
    }
   ],
   "source": [
    "import os, random, math\n",
    "\n",
    "import pandas as pd\n",
    "import numpy as np\n",
    "import seaborn as sns\n",
    "import matplotlib.pyplot as plt\n",
    "%matplotlib inline\n",
    "\n",
    "import lightgbm as lgb\n",
    "\n",
    "import librosa\n",
    "import librosa.display\n",
    "\n",
    "from scipy.stats import skew, kurtosis\n",
    "from sklearn.model_selection import train_test_split\n",
    "from sklearn.model_selection import StratifiedKFold\n",
    "from prettytable import PrettyTable\n",
    "from tqdm import tqdm_notebook, tqdm_pandas\n",
    "tqdm_notebook().pandas(smoothing=0.7)\n",
    "\n",
    "import IPython\n",
    "import IPython.display as ipd\n",
    "\n",
    "import matplotlib as mpl\n",
    "mpl.rcParams['font.size'] = 14"
   ]
  },
  {
   "cell_type": "code",
   "execution_count": 48,
   "metadata": {},
   "outputs": [],
   "source": [
    "def preds_to_labels(p, labels):\n",
    "    predictions = [list(np.argsort(p[i])[::-1][:3]) for i in range(len(p))]\n",
    "    prediction_labels = []\n",
    "    \n",
    "    for pred in predictions:\n",
    "        label_list = []\n",
    "        for output in pred:\n",
    "            label_list.append(labels[output])\n",
    "        prediction_labels.append(label_list)\n",
    "    return prediction_labels"
   ]
  },
  {
   "cell_type": "code",
   "execution_count": 49,
   "metadata": {},
   "outputs": [],
   "source": [
    "import soundfile as sf\n",
    "def spectral_features(fname=None, root=None, n_mfcc=15, return_fnames=False):\n",
    "    feature_names = []\n",
    "    for i in ['mean', 'std', 'min', 'max', 'skew', 'kurt']:\n",
    "        for j in range(n_mfcc):\n",
    "            feature_names.append('mfcc_{}_{}'.format(j, i))\n",
    "        feature_names.append('centroid_{}'.format(i))\n",
    "        feature_names.append('bandwidth_{}'.format(i))\n",
    "        feature_names.append('contrast_{}'.format(i))\n",
    "        feature_names.append('rolloff_{}'.format(i))\n",
    "        feature_names.append('flatness_{}'.format(i))\n",
    "        feature_names.append('zcr_{}'.format(i))\n",
    "    \n",
    "    if return_fnames:\n",
    "        return feature_names\n",
    "\n",
    "    spectral_features = [\n",
    "        librosa.feature.spectral_centroid,\n",
    "        librosa.feature.spectral_bandwidth,\n",
    "        librosa.feature.spectral_contrast,\n",
    "        librosa.feature.spectral_rolloff,\n",
    "        librosa.feature.spectral_flatness,\n",
    "        librosa.feature.zero_crossing_rate]\n",
    "     \n",
    "    try:\n",
    "##        data, fs = librosa.core.load(root + fname, sr=None)\n",
    "        data, fs = sf.read(root + fname)\n",
    "        M = librosa.feature.mfcc(data, sr=fs, n_mfcc=n_mfcc)\n",
    "        data_row = np.hstack((np.mean(M, axis=1), np.std(M, axis=1), np.min(M, axis=1),\n",
    "                              np.max(M, axis=1), skew(M, axis=1), kurtosis(M, axis=1)))\n",
    "        \n",
    "        for feat in spectral_features:\n",
    "            S = feat(data)[0]\n",
    "            data_row = np.hstack((data_row, np.mean(S), np.std(S), np.min(S),\n",
    "                                  np.max(S), skew(S), kurtosis(S)))\n",
    "\n",
    "        return pd.Series(data_row)\n",
    "        \n",
    "    except (ValueError, RuntimeError):\n",
    "        print(\"Bad file at {}\".format(fname))\n",
    "        return pd.Series([0]*len(feature_names))  "
   ]
  },
  {
   "cell_type": "code",
   "execution_count": 50,
   "metadata": {},
   "outputs": [],
   "source": [
    "def create_submission(predictions, name='submission.csv'):\n",
    "    predictions = ['{} {} {}'.format(x[0], x[1], x[2]) for x in predictions]\n",
    "    submission = pd.read_csv('input/sample_submission.csv')\n",
    "    submission.label = predictions\n",
    "    submission.to_csv('{}'.format(name), index=False)\n",
    "    print(\"Submission saved to '{}'\".format(name))\n"
   ]
  },
  {
   "cell_type": "code",
   "execution_count": 51,
   "metadata": {},
   "outputs": [],
   "source": [
    "def data_split(train_df, test_df, shuffle=True, test_size=0.25, random_state=0, verbose=True):\n",
    "    # Get numpy array of X data\n",
    "    X_train = train_df.drop(['fname', 'label', 'manually_verified'], axis=1).values\n",
    "    X_test = test_df.drop(['fname', 'label'], axis=1).values\n",
    "    feature_names = list(test_df.drop(['fname', 'label'], axis=1).columns.values)\n",
    "\n",
    "    # Get numpy array of y data\n",
    "    y_train = pd.get_dummies(train_df.label)\n",
    "    labels = y_train.columns.values\n",
    "    y_train = y_train.values\n",
    "\n",
    "    y_train = [np.argmax(row) for row in y_train]\n",
    "    X_train, X_valid, y_train, y_valid = train_test_split(X_train, y_train, test_size=test_size,\n",
    "                                                          random_state=random_state, shuffle=shuffle)\n",
    "    if verbose:\n",
    "        print(\"Train X shape = {}\\nTrain y shape = {}\".format(X_train.shape, len(y_train)))\n",
    "        print(\"\\nValid X shape = {}\\nValid y shape = {}\".format(X_valid.shape, len(y_valid)))\n",
    "\n",
    "    assert X_train.shape[1] == X_valid.shape[1] == X_test.shape[1]\n",
    "    assert len(y_train) == X_train.shape[0]\n",
    "    assert len(y_valid) == X_valid.shape[0]\n",
    "    \n",
    "    return X_train, X_valid, y_train, y_valid, X_test, feature_names, labels\n",
    "\n"
   ]
  },
  {
   "cell_type": "code",
   "execution_count": 52,
   "metadata": {},
   "outputs": [],
   "source": [
    "def trim_silence(fname, root, window_length=0.5):\n",
    "    try:\n",
    "        trimmed_ends = 0\n",
    "        trimmed_int = 0\n",
    "        \n",
    "        data, fs = librosa.core.load(root + fname, sr=None)\n",
    "        length = len(data)\n",
    "        \n",
    "        # Trim silence from ends\n",
    "        data, _ = librosa.effects.trim(data, top_db=40)\n",
    "        length_int = len(data)\n",
    "        ratio_int = length_int/length\n",
    "        \n",
    "        # Split file into non-silent chunks and recombine\n",
    "        splits = librosa.effects.split(data, top_db=40)\n",
    "        if len(splits) > 1:\n",
    "            data = np.concatenate([data[x[0]:x[1]] for x in splits])    \n",
    "        \n",
    "        length_final = len(data)\n",
    "        ratio_final = length_final/length_int     \n",
    "\n",
    "        if cache:\n",
    "            # Save file and return new features\n",
    "            librosa.output.write_wav('{}_trimmed/{}'.format(root[:-1], fname), data, fs)\n",
    "        return pd.Series([length_int, length_final, ratio_int, ratio_final])\n",
    "       \n",
    "    except ValueError:\n",
    "        print(\"Bad file at {}\".format(fname))\n",
    "        return pd.Series([0, 0, 0, 0])  \n",
    "\n"
   ]
  },
  {
   "cell_type": "code",
   "execution_count": 53,
   "metadata": {},
   "outputs": [],
   "source": [
    "def apk(actual, predicted, k=10):\n",
    "    if len(predicted)>k:\n",
    "        predicted = predicted[:k]\n",
    "\n",
    "    score = 0.0\n",
    "    num_hits = 0.0\n",
    "\n",
    "    for i,p in enumerate(predicted):\n",
    "        if p in actual and p not in predicted[:i]:\n",
    "            num_hits += 1.0\n",
    "            score += num_hits / (i+1.0)\n",
    "\n",
    "    if not actual:\n",
    "        return 0.0\n",
    "\n",
    "    return score / min(len(actual), k)\n",
    "\n",
    "def mapk(actual, predicted, k=10):\n",
    "    return np.mean([apk(a,p,k) for a,p in zip(actual, predicted)])\n"
   ]
  },
  {
   "cell_type": "code",
   "execution_count": 54,
   "metadata": {},
   "outputs": [
    {
     "name": "stdout",
     "output_type": "stream",
     "text": [
      "Files loaded from cache\n"
     ]
    }
   ],
   "source": [
    "train_df = pd.read_csv('cache/train_spectral.csv')\n",
    "test_df = pd.read_csv('cache/test_spectral.csv')\n",
    "assert len(train_df.index) == n_training\n",
    "assert len(test_df.index) == n_test\n",
    "print(\"Files loaded from cache\")\n",
    "\n"
   ]
  },
  {
   "cell_type": "code",
   "execution_count": null,
   "metadata": {},
   "outputs": [],
   "source": []
  },
  {
   "cell_type": "code",
   "execution_count": 55,
   "metadata": {},
   "outputs": [],
   "source": [
    "import multiprocessing\n",
    "def lgb_dset(X_train, X_valid, y_train, y_valid, feature_names):\n",
    "    \n",
    "    d_train = lgb.Dataset(X_train, label=y_train, feature_name=feature_names)\n",
    "    d_valid = lgb.Dataset(X_valid, label=y_valid, feature_name=feature_names)\n",
    "\n",
    "    params = {\n",
    "        'boosting_type': 'gbdt',\n",
    "        'objective': 'multiclass',\n",
    "        'metric': 'multi_logloss',\n",
    "        'max_depth': 4,\n",
    "        'num_leaves': 20,\n",
    "        'learning_rate': 0.025,\n",
    "        'feature_fraction': 0.65,\n",
    "        'bagging_fraction': 0.65,\n",
    "        'bagging_freq': 5,\n",
    "        'num_threads': multiprocessing.cpu_count(),\n",
    "        'lambda_l2': 1.0,\n",
    "        'min_gain_to_split': 0,\n",
    "        'num_class': n_categories,\n",
    "    }\n",
    "    \n",
    "    return d_train, d_valid, params\n"
   ]
  },
  {
   "cell_type": "code",
   "execution_count": 25,
   "metadata": {},
   "outputs": [
    {
     "name": "stdout",
     "output_type": "stream",
     "text": [
      "Train X shape = (9473, 170)\n",
      "Train y shape = 9473\n",
      "\n",
      "Valid X shape = (0, 170)\n",
      "Valid y shape = 0\n",
      "[200]\tcv_agg's multi_logloss: 1.32954 + 0.0242852\n",
      "[400]\tcv_agg's multi_logloss: 1.1125 + 0.0281293\n",
      "[600]\tcv_agg's multi_logloss: 1.03803 + 0.0325897\n",
      "[800]\tcv_agg's multi_logloss: 1.00738 + 0.0357591\n",
      "[1000]\tcv_agg's multi_logloss: 0.992943 + 0.0383877\n",
      "[1200]\tcv_agg's multi_logloss: 0.98604 + 0.0400202\n",
      "[1400]\tcv_agg's multi_logloss: 0.983975 + 0.0420138\n",
      "[1600]\tcv_agg's multi_logloss: 0.983358 + 0.0435548\n"
     ]
    }
   ],
   "source": [
    "# Create dataset\n",
    "X_train, X_valid, y_train, y_valid, X_test, feature_names, labels = data_split(train_df,\n",
    "                                                                               test_df,test_size = 0)\n",
    "#print(y_train)\n",
    "d_train, d_valid, params = lgb_dset(X_train, X_valid, y_train, y_valid, feature_names)\n",
    "\n",
    "# Train and predict\n",
    "hist = clf = lgb.cv(params, d_train, num_boost_round=2000,  verbose_eval=200, early_stopping_rounds=100)\n"
   ]
  },
  {
   "cell_type": "code",
   "execution_count": 56,
   "metadata": {},
   "outputs": [
    {
     "data": {
      "text/plain": [
       "[<matplotlib.lines.Line2D at 0x7ff85b54a910>]"
      ]
     },
     "execution_count": 56,
     "metadata": {},
     "output_type": "execute_result"
    },
    {
     "data": {
      "image/png": "[encoded data removed]",
      "text/plain": [
       "<Figure size 432x288 with 1 Axes>"
      ]
     },
     "metadata": {},
     "output_type": "display_data"
    }
   ],
   "source": [
    "plt.xlabel('Iterations')\n",
    "plt.ylabel('MultiLog Loss')\n",
    "plt.plot(range(1534),hist.values()[0])"
   ]
  },
  {
   "cell_type": "code",
   "execution_count": 20,
   "metadata": {},
   "outputs": [
    {
     "name": "stdout",
     "output_type": "stream",
     "text": [
      "Training until validation scores don't improve for 100 rounds.\n",
      "[200]\tvalid_0's multi_logloss: 1.37055\n",
      "[400]\tvalid_0's multi_logloss: 1.15398\n",
      "[600]\tvalid_0's multi_logloss: 1.08669\n",
      "[800]\tvalid_0's multi_logloss: 1.05531\n",
      "[1000]\tvalid_0's multi_logloss: 1.04097\n",
      "[1200]\tvalid_0's multi_logloss: 1.03327\n",
      "[1400]\tvalid_0's multi_logloss: 1.02979\n",
      "[1600]\tvalid_0's multi_logloss: 1.02903\n",
      "[1800]\tvalid_0's multi_logloss: 1.02901\n",
      "Early stopping, best iteration is:\n",
      "[1735]\tvalid_0's multi_logloss: 1.02847\n",
      "\n",
      "Score = 0.7883\n"
     ]
    }
   ],
   "source": [
    "# Create dataset\n",
    "X_train, X_valid, y_train, y_valid, X_test, feature_names, labels = data_split(train_df, test_df, verbose=False)\n",
    "#print(y_train)\n",
    "d_train, d_valid, params = lgb_dset(X_train, X_valid, y_train, y_valid, feature_names)\n",
    "\n",
    "# Train and predict\n",
    "clf = lgb.train(params, d_train, num_boost_round=2000, valid_sets=d_valid, verbose_eval=200, early_stopping_rounds=100)\n",
    "p = clf.predict(X_valid, num_iteration=clf.best_iteration)\n",
    "\n",
    "# Score\n",
    "predictions = [list(np.argsort(p[i])[::-1][:3]) for i in range(len(p))]\n",
    "actual = [[i] for i in y_valid]\n",
    "valid_score = mapk(actual, predictions, k=3)\n",
    "print(\"\\nScore = {:.4f}\".format(valid_score))\n",
    "\n"
   ]
  },
  {
   "cell_type": "code",
   "execution_count": 22,
   "metadata": {},
   "outputs": [
    {
     "name": "stdout",
     "output_type": "stream",
     "text": [
      "Submission saved to 'submission-0.7883.csv'\n"
     ]
    }
   ],
   "source": [
    "# CV = 0.7854, LB = 0.835\n",
    "p = clf.predict(X_test, num_iteration=clf.best_iteration)\n",
    "np.save('submission-{:.4f}.npy'.format(valid_score),p)\n",
    "lab = preds_to_labels(p, labels)\n",
    "create_submission(lab, 'submission-{:.4f}.csv'.format(valid_score))"
   ]
  },
  {
   "cell_type": "code",
   "execution_count": 27,
   "metadata": {},
   "outputs": [
    {
     "name": "stdout",
     "output_type": "stream",
     "text": [
      "Train X shape = (9473, 170)\n",
      "Train y shape = 9473\n",
      "\n",
      "Valid X shape = (0, 170)\n",
      "Valid y shape = 0\n"
     ]
    }
   ],
   "source": [
    "# Create dataset\n",
    "X_train, X_valid, y_train, y_valid, X_test, feature_names, labels = \\\n",
    "    data_split(train_df, test_df, test_size=0)\n",
    "d_train = lgb.Dataset(X_train, label=y_train, feature_name=feature_names)\n"
   ]
  },
  {
   "cell_type": "code",
   "execution_count": 28,
   "metadata": {},
   "outputs": [
    {
     "name": "stdout",
     "output_type": "stream",
     "text": [
      "Begin training...\n",
      "Begin test predictions...\n"
     ]
    }
   ],
   "source": [
    "# Train and predict\n",
    "print(\"Begin training...\")\n",
    "clf = lgb.train(params, d_train, num_boost_round=2000)\n",
    "\n",
    "print(\"Begin test predictions...\")\n",
    "p = clf.predict(X_test)\n"
   ]
  },
  {
   "cell_type": "code",
   "execution_count": 32,
   "metadata": {},
   "outputs": [
    {
     "name": "stdout",
     "output_type": "stream",
     "text": [
      "Submission saved to 'submission-test_kitchen7898.csv'\n",
      "Submission created.\n"
     ]
    }
   ],
   "source": [
    "lab = preds_to_labels(p, labels)\n",
    "\n",
    "create_submission(lab, 'submission-test_kitchen7898.csv')\n",
    "print(\"Submission created.\")"
   ]
  },
  {
   "cell_type": "code",
   "execution_count": null,
   "metadata": {},
   "outputs": [],
   "source": []
  },
  {
   "cell_type": "code",
   "execution_count": null,
   "metadata": {},
   "outputs": [],
   "source": []
  }
 ],
 "metadata": {
  "kernelspec": {
   "display_name": "Python 2",
   "language": "python",
   "name": "python2"
  },
  "language_info": {
   "codemirror_mode": {
    "name": "ipython",
    "version": 2
   },
   "file_extension": ".py",
   "mimetype": "text/x-python",
   "name": "python",
   "nbconvert_exporter": "python",
   "pygments_lexer": "ipython2",
   "version": "2.7.12"
  }
 },
 "nbformat": 4,
 "nbformat_minor": 2
}
