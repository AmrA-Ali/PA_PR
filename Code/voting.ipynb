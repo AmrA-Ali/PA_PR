{
 "cells": [
  {
   "cell_type": "code",
   "execution_count": null,
   "metadata": {},
   "outputs": [],
   "source": [
    "import pandas as pd\n",
    "import numpy as np"
   ]
  },
  {
   "cell_type": "code",
   "execution_count": null,
   "metadata": {},
   "outputs": [],
   "source": [
    "nn_csv1d2d90 = pd.read_csv(\"../freesound_nn/newtryout.csv\")\n",
    "nn_csv1d2d91 = pd.read_csv(\"../freesound_nn/91percent_2dweight_0.70.csv\")\n",
    "lgbm_csv = pd.read_csv(\"submission-test_kitchen7898.csv\")"
   ]
  },
  {
   "cell_type": "code",
   "execution_count": null,
   "metadata": {},
   "outputs": [],
   "source": [
    "count_maj_abs = 0\n",
    "maj_1=0\n",
    "maj_2=0\n",
    "maj_3=0\n",
    "out = []\n",
    "same = 0\n",
    "alldif = 0\n",
    "for i in range(len(lgbm_csv)):\n",
    "    a = []\n",
    "    e = nn_csv1d2d90[\"label\"][i].split(' ')\n",
    "    w = nn_csv1d2d91[\"label\"][i].split(' ')\n",
    "    #w = lgbm_csv[\"label\"][i].split(' ')\n",
    "    if e == w:\n",
    "        a.append(e)\n",
    "        same+=1\n",
    "    elif e[0] == w[0]:\n",
    "        if(e[2] == w[2]):\n",
    "            a.append([e[0],e[2],e[1]])\n",
    "            maj_3+=1\n",
    "        else:\n",
    "            a.append([e[0],e[1],e[2]])\n",
    "            maj_1+=1\n",
    "    elif e[1] == w[1]:\n",
    "        a.append([e[1],e[0],e[2]])\n",
    "        count_maj_abs+=1\n",
    "        maj_2+=1\n",
    "    elif e[2] == w[2]:\n",
    "        a.append([e[0],e[2],e[1]])\n",
    "        alldif+=1\n",
    "        #maj_3+=1\n",
    "    else:\n",
    "        a.append(e)\n",
    "    out.append(a)\n",
    "print maj_1, maj_2, maj_3\n",
    "print same, alldif"
   ]
  },
  {
   "cell_type": "code",
   "execution_count": null,
   "metadata": {
    "scrolled": true
   },
   "outputs": [],
   "source": [
    "subm = []\n",
    "c = 0\n",
    "for t in out[:-1]:\n",
    "    #print t\n",
    "    a = t[0][0] + ' ' + t[0][1] + ' '+ t[0][2]\n",
    "    c+=1\n",
    "    subm.append(a)\n",
    "    #break\n",
    "subm.append(nn_csv1d2d91[\"label\"][-1])\n",
    "print len(subm)"
   ]
  },
  {
   "cell_type": "code",
   "execution_count": null,
   "metadata": {},
   "outputs": [],
   "source": [
    "def create_submission(predictions, name='submission.csv'):\n",
    "    #predictions = ['{} {} {}'.format(x[0], x[1], x[2]) for x in predictions]\n",
    "    submission = pd.read_csv('input/sample_submission.csv')\n",
    "    submission.label = predictions\n",
    "    submission.to_csv('{}'.format(name), index=False)\n",
    "    print(\"Submission saved to '{}'\".format(name))\n",
    "\n",
    "    \n",
    "create_submission(subm, 'submission-test_kitchen011.csv')\n",
    "print(\"Submission created.\")"
   ]
  }
 ],
 "metadata": {
  "kernelspec": {
   "display_name": "Python 2",
   "language": "python",
   "name": "python2"
  },
  "language_info": {
   "codemirror_mode": {
    "name": "ipython",
    "version": 2
   },
   "file_extension": ".py",
   "mimetype": "text/x-python",
   "name": "python",
   "nbconvert_exporter": "python",
   "pygments_lexer": "ipython2",
   "version": "2.7.12"
  }
 },
 "nbformat": 4,
 "nbformat_minor": 2
}
